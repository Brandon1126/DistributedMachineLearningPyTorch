{
 "cells": [
  {
   "cell_type": "code",
   "execution_count": 12,
   "metadata": {},
   "outputs": [
    {
     "data": {
      "text/plain": [
       "{0: 'tench',\n",
       " 1: 'goldfish',\n",
       " 2: 'great white shark',\n",
       " 3: 'tiger shark',\n",
       " 4: 'hammerhead',\n",
       " 5: 'electric ray',\n",
       " 6: 'stingray',\n",
       " 7: 'chicken',\n",
       " 8: 'hen',\n",
       " 9: 'goldfinch',\n",
       " 10: 'indigo bird',\n",
       " 11: 'bulbul',\n",
       " 12: 'magpie',\n",
       " 13: 'chickadee',\n",
       " 14: 'water ouzel',\n",
       " 15: 'kite',\n",
       " 16: 'bald eagle',\n",
       " 17: 'great grey owl',\n",
       " 18: 'common newt',\n",
       " 19: 'spotted salamander'}"
      ]
     },
     "execution_count": 12,
     "metadata": {},
     "output_type": "execute_result"
    }
   ],
   "source": [
    "\"\"\"Model Testing Notebook\n",
    "\"\"\"\n",
    "import json\n",
    "import torch\n",
    "from torchvision.models import vgg19\n",
    "from torchvision import transforms\n",
    "from torchvision.datasets import ImageFolder\n",
    "from torch.utils.data import DataLoader\n",
    "import torch.nn.functional as F\n",
    "import numpy as np\n",
    "\n",
    "# Recreating trained model\n",
    "model = vgg19()\n",
    "model.classifier = torch.nn.Sequential(\n",
    "    torch.nn.Linear(in_features=25088, out_features=4096, bias=True),\n",
    "    torch.nn.ReLU(inplace=True),\n",
    "    torch.nn.Dropout(p=0.7, inplace=False),\n",
    "    torch.nn.Linear(in_features=4096, out_features=2048, bias=True),\n",
    "    torch.nn.ReLU(inplace=True),\n",
    "    torch.nn.Dropout(p=0.7, inplace=False),\n",
    "    torch.nn.Linear(in_features=2048, out_features=20, bias=True)\n",
    ")\n",
    "\n",
    "# def model_stats_loader(model: torch.nn.Module) -> \n",
    "\n",
    "\n",
    "# Loading in saved model and data from EC2 training\n",
    "training_dict = torch.load('trained_models/two_nodes.pt')\n",
    "epochs_run1 = training_dict[\"EPOCHS_RUN\"]\n",
    "run_time1 = training_dict['RUN_TIME']\n",
    "train_loss_history1 = training_dict['TRAIN_HISTORY']\n",
    "valid_loss_history1 = training_dict['VALID_HISTORY']\n",
    "epoch_times1 = training_dict['EPOCH_TIMES']\n",
    "lowest_loss1 = training_dict['LOWEST_LOSS']\n",
    "\n",
    "model.load_state_dict(training_dict[\"MODEL_STATE\"])\n",
    "model.eval()\n",
    "\n",
    "transform = transforms.Compose([\n",
    "    transforms.Resize((224, 224)),\n",
    "    transforms.ToTensor(),\n",
    "    transforms.Normalize(mean=[0.485, 0.456, 0.406],\n",
    "                         std=[0.229, 0.224, 0.225])\n",
    "])\n",
    "\n",
    "test_data = ImageFolder(root='data/test', transform=transform)\n",
    "\n",
    "test_loader = DataLoader(\n",
    "    test_data,\n",
    "    batch_size=32,\n",
    ")\n",
    "\n",
    "loss_func = F.cross_entropy\n",
    "\n",
    "# Loading in labels map from JSON\n",
    "labels_dict = {}\n",
    "with open('data/labels.json') as labels_json:\n",
    "    labels_dict = json.load(labels_json)\n",
    "\n",
    "sorted_folder_list = list(sorted(labels_dict.keys()))\n",
    "\n",
    "# Only need the first 20 out of 100 classes.\n",
    "labels_map = {}\n",
    "for i in range(20):\n",
    "    labels_map[i] = labels_dict[sorted_folder_list[i]]\n",
    "\n",
    "labels_map\n"
   ]
  },
  {
   "cell_type": "code",
   "execution_count": 13,
   "metadata": {},
   "outputs": [],
   "source": [
    "# initialize lists to monitor test loss and accuracy\n",
    "test_loss = 0.0\n",
    "classes_num = 20\n",
    "class_correct = list(0. for i in range(classes_num))\n",
    "class_total = list(0. for i in range(classes_num))\n",
    "\n",
    "for data, target in test_loader:\n",
    "    output = model(data)\n",
    "    loss = loss_func(output, target)\n",
    "    test_loss += loss.item()*data.size(0)\n",
    "    _, pred = torch.max(output, 1)\n",
    "    correct = np.squeeze(pred.eq(target.data.view_as(pred)))\n",
    "    for i in range(len(target)):\n",
    "        label = target[i]\n",
    "        class_correct[label] += correct[i].item()\n",
    "        class_total[label] += 1"
   ]
  },
  {
   "cell_type": "code",
   "execution_count": 14,
   "metadata": {},
   "outputs": [
    {
     "name": "stdout",
     "output_type": "stream",
     "text": [
      "Test Loss: 0.435099\n",
      "\n",
      "Test Accuracy of Class: tench              : 92.00% (46/50)\n",
      "Test Accuracy of Class: goldfish           : 98.00% (49/50)\n",
      "Test Accuracy of Class: great white shark  : 74.00% (37/50)\n",
      "Test Accuracy of Class: tiger shark        : 74.00% (37/50)\n",
      "Test Accuracy of Class: hammerhead         : 84.00% (42/50)\n",
      "Test Accuracy of Class: electric ray       : 72.00% (36/50)\n",
      "Test Accuracy of Class: stingray           : 82.00% (41/50)\n",
      "Test Accuracy of Class: chicken            : 68.00% (34/50)\n",
      "Test Accuracy of Class: hen                : 92.00% (46/50)\n",
      "Test Accuracy of Class: goldfinch          : 100.00% (50/50)\n",
      "Test Accuracy of Class: indigo bird        : 98.00% (49/50)\n",
      "Test Accuracy of Class: bulbul             : 92.00% (46/50)\n",
      "Test Accuracy of Class: magpie             : 96.00% (48/50)\n",
      "Test Accuracy of Class: chickadee          : 94.00% (47/50)\n",
      "Test Accuracy of Class: water ouzel        : 88.00% (44/50)\n",
      "Test Accuracy of Class: kite               : 82.00% (41/50)\n",
      "Test Accuracy of Class: bald eagle         : 88.00% (44/50)\n",
      "Test Accuracy of Class: great grey owl     : 96.00% (48/50)\n",
      "Test Accuracy of Class: common newt        : 84.00% (42/50)\n",
      "Test Accuracy of Class: spotted salamander : 92.00% (46/50)\n",
      "\n",
      "Test Accuracy (Overall): 87.30% (873/1000)\n"
     ]
    }
   ],
   "source": [
    "# Calculate and print average test loss\n",
    "t_loss = test_loss/len(test_loader.dataset)\n",
    "print('Test Loss: {:.6f}\\n'.format(t_loss))\n",
    "\n",
    "for i in range(classes_num):\n",
    "    if class_total[i] > 0:\n",
    "        percent_correct = 100 * class_correct[i] / class_total[i]\n",
    "        print(\n",
    "            f'Test Accuracy of Class: {labels_map[i]:19s}: {percent_correct:3.2f}%', \n",
    "            f'({np.sum(int(class_correct[i]))}/{np.sum(int(class_total[i]))})')\n",
    "    else:\n",
    "        print('Test Accuracy of %5s: N/A (no training examples)' %\n",
    "              (labels_map[i]))\n",
    "\n",
    "percent_correct = 100.0 * np.sum(class_correct) / np.sum(class_total)\n",
    "print(\n",
    "    f'\\nTest Accuracy (Overall): {percent_correct:3.2f}%',\n",
    "    f'({int(np.sum(class_correct))}/{int(np.sum(class_total))})')"
   ]
  },
  {
   "cell_type": "code",
   "execution_count": null,
   "metadata": {},
   "outputs": [],
   "source": []
  },
  {
   "cell_type": "code",
   "execution_count": null,
   "metadata": {},
   "outputs": [],
   "source": []
  }
 ],
 "metadata": {
  "kernelspec": {
   "display_name": "Python 3.10.6 ('practice36')",
   "language": "python",
   "name": "python3"
  },
  "language_info": {
   "codemirror_mode": {
    "name": "ipython",
    "version": 3
   },
   "file_extension": ".py",
   "mimetype": "text/x-python",
   "name": "python",
   "nbconvert_exporter": "python",
   "pygments_lexer": "ipython3",
   "version": "3.10.6"
  },
  "orig_nbformat": 4,
  "vscode": {
   "interpreter": {
    "hash": "f1d7d8c79bcf7a1c02719b940bc5aa8df5105208d066c5bcf1025e2787851ea9"
   }
  }
 },
 "nbformat": 4,
 "nbformat_minor": 2
}
